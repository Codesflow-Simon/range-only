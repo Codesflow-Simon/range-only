{
 "cells": [
  {
   "cell_type": "code",
   "execution_count": 1,
   "id": "3a03bd40",
   "metadata": {},
   "outputs": [],
   "source": [
    "import numpy as np\n",
    "import scipy.spatial as sp\n",
    "import matplotlib.pyplot as plt"
   ]
  },
  {
   "cell_type": "code",
   "execution_count": 2,
   "id": "ed643d0b",
   "metadata": {},
   "outputs": [],
   "source": [
    "\n",
    "mysigma = 0.1\n",
    "\n",
    "def sq_exp(X, X_star, length_scale):\n",
    "    \"\"\"\n",
    "    Args:\n",
    "        X (nparray): (n, d)\n",
    "        X_star (nparray): (m, d)\n",
    "        length_scale (float): \n",
    "    \"\"\"\n",
    "    dist = sp.distance.cdist(X, X_star)\n",
    "    k1 = np.exp(-dist**2/(2*length_scale**2))\n",
    "\n",
    "    return k1 * mysigma*mysigma\n",
    "\n",
    "def brownian(X, X_star, _):\n",
    "    \"\"\"\n",
    "    Args:\n",
    "        X (nparray): (n, d)\n",
    "        X_star (nparray): (m, d)\n",
    "        length_scale (float): \n",
    "    \"\"\"\n",
    "    arr = np.empty((X.shape[0], X_star.shape[0]))\n",
    "    for i in range(X.shape[0]):\n",
    "        for j in range(X_star.shape[0]):\n",
    "            arr[i,j] = min(i+1,j+1)\n",
    "\n",
    "    return arr * mysigma*mysigma\n",
    "\n",
    "def sample_prior(X, length_scale, N, kernel=sq_exp):\n",
    "    \"\"\"\n",
    "    Args:\n",
    "        X (nparray): (n, d)\n",
    "        length_scale (float): \n",
    "        N (int): \n",
    "    \"\"\"\n",
    "    n = X.shape[0]\n",
    "    k = kernel(X, X, length_scale)\n",
    "    samples = np.random.multivariate_normal([0]*n, k, N)\n",
    "    return samples\n",
    "\n",
    "def predictive_mean(X, y, X_star, length_scale, sigma, kernel=sq_exp):\n",
    "    \"\"\"\n",
    "    Args:\n",
    "        X (nparray): (n, d)\n",
    "        y (nparray): (n, 1)\n",
    "        X_star (nparray): (m, d)\n",
    "        length_scale (float): \n",
    "        sigma (float)\n",
    "    \"\"\"\n",
    "    n = X.shape[0]\n",
    "    K_xstar_x = kernel(X_star, X, length_scale)\n",
    "    K_x_x = kernel(X, X, length_scale)\n",
    "\n",
    "    return \\\n",
    "    np.matmul(K_xstar_x, np.matmul(np.linalg.inv(K_x_x+sigma**2*np.eye(n)), y))\n",
    "\n",
    "def predictive_cov(X, y, X_star, length_scale, sigma,kernel=sq_exp):\n",
    "    \"\"\"\n",
    "    Args:\n",
    "        X (nparray): (n, d)\n",
    "        y (nparray): (n, 1)\n",
    "        X_star (nparray): (m, d)\n",
    "        length_scale (float): \n",
    "        sigma (float):\n",
    "    \"\"\"\n",
    "\n",
    "    n = X.shape[0]\n",
    "    K_xstar_xstar = kernel(X_star, X_star, length_scale)\n",
    "    K_xstar_x = kernel(X_star, X, length_scale)\n",
    "    K_x_x = kernel(X, X, length_scale)\n",
    "\n",
    "    return K_xstar_xstar - np.matmul(K_xstar_x,\n",
    "            np.matmul(np.linalg.inv(K_x_x + sigma**2*np.eye(n)), K_xstar_x.T))\n",
    "\n"
   ]
  },
  {
   "cell_type": "code",
   "execution_count": 3,
   "id": "934e66fa",
   "metadata": {},
   "outputs": [
    {
     "name": "stdout",
     "output_type": "stream",
     "text": [
      "[0.35842697 0.5752809  0.66741573 0.72696629 0.71348315 0.71348315\n",
      " 0.71348315]\n",
      "[0.00382022 0.00438202 0.00449438 0.0047191  0.00617978 0.01617978\n",
      " 0.02617978]\n"
     ]
    },
    {
     "data": {
      "image/png": "[encoded data removed]",
      "text/plain": [
       "<Figure size 640x480 with 1 Axes>"
      ]
     },
     "metadata": {},
     "output_type": "display_data"
    }
   ],
   "source": [
    "if __name__ == '__main__':\n",
    "    \n",
    "    # Load test data   \n",
    "    train_inputs = np.array([0,1,2,3,4]).reshape((-1,1))\n",
    "    plot_test_inputs = np.array([0,1,2,3,4,5,6]).reshape((-1,1))\n",
    "    train_outputs = np.array([0.5,0.7,0.7,0.8,0.7]).reshape((-1,1))\n",
    "        \n",
    "    # Q1\n",
    "    ls = 1\n",
    "    sigma_n = 0.1\n",
    "    mean = predictive_mean(train_inputs, train_outputs, plot_test_inputs, \n",
    "            ls, sigma_n, kernel=brownian).reshape((-1,))\n",
    "    cov = predictive_cov(train_inputs, train_outputs, plot_test_inputs, \n",
    "            ls, sigma_n, kernel=brownian)\n",
    "    var = np.diag(cov)\n",
    "\n",
    "    plt.plot(train_inputs, train_outputs, 'k*')\n",
    "    \n",
    "    print(mean)\n",
    "    print(var)\n",
    "    \n",
    "    plt.plot(plot_test_inputs, mean, 'r')\n",
    "    plt.fill_between(plot_test_inputs.reshape((-1,)), \n",
    "            mean + np.sqrt(var), mean - np.sqrt(var))\n",
    "        "
   ]
  },
  {
   "cell_type": "code",
   "execution_count": null,
   "id": "86162f0d",
   "metadata": {},
   "outputs": [],
   "source": []
  }
 ],
 "metadata": {
  "kernelspec": {
   "display_name": "Python 3 (ipykernel)",
   "language": "python",
   "name": "python3"
  },
  "language_info": {
   "codemirror_mode": {
    "name": "ipython",
    "version": 3
   },
   "file_extension": ".py",
   "mimetype": "text/x-python",
   "name": "python",
   "nbconvert_exporter": "python",
   "pygments_lexer": "ipython3",
   "version": "3.10.6"
  }
 },
 "nbformat": 4,
 "nbformat_minor": 5
}
