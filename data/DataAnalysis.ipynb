{
 "cells": [
  {
   "cell_type": "code",
   "execution_count": 1,
   "id": "11230186",
   "metadata": {},
   "outputs": [],
   "source": [
    "import pandas as pd\n",
    "from matplotlib import pyplot as plt\n",
    "from mpl_toolkits.mplot3d import Axes3D\n",
    "\n",
    "import json\n",
    "from math import sqrt\n",
    "%matplotlib notebook"
   ]
  },
  {
   "cell_type": "code",
   "execution_count": 2,
   "id": "34b25151",
   "metadata": {},
   "outputs": [],
   "source": [
    "prefix = \"../build/\"\n",
    "# prefix = \"./timeSqExp/testNaive/\"\n",
    "\n",
    "df = pd.read_csv(prefix+\"data.csv\")\n",
    "df.columns = ['x', 'y', 'z', 'x_std', 'y_std', 'z_std','time']\n",
    "df[\"x+\"] = df[\"x\"] + df[\"x_std\"]\n",
    "df[\"y+\"] = df[\"y\"] + df[\"y_std\"]\n",
    "df[\"z+\"] = df[\"z\"] + df[\"z_std\"]\n",
    "df[\"x-\"] = df[\"x\"] - df[\"x_std\"]\n",
    "df[\"y-\"] = df[\"y\"] - df[\"y_std\"]\n",
    "df[\"z-\"] = df[\"z\"] - df[\"z_std\"]\n",
    "\n",
    "print(df)"
   ]
  },
  {
   "cell_type": "code",
   "execution_count": 3,
   "id": "d7fc7efe",
   "metadata": {},
   "outputs": [],
   "source": [
    "path = pd.read_csv(\"path.csv\")\n",
    "\n",
    "print(path.tail())\n",
    "\n",
    "df['gnd_x'] = path[\"x\"] \n",
    "df['gnd_y'] = path[\"y\"]\n",
    "df['gnd_z'] = path[\"z\"]\n",
    "\n",
    "df.iloc[10]"
   ]
  },
  {
   "cell_type": "code",
   "execution_count": 4,
   "id": "f5dbb4f0",
   "metadata": {},
   "outputs": [],
   "source": [
    "plt.plot(df.index, df['x'])\n",
    "plt.fill_between(df.index, df['x+'], df['x-'], alpha=0.2)\n",
    "plt.plot(df.index, df['gnd_x'])\n",
    "\n",
    "plt.figure()\n",
    "\n",
    "plt.plot(df.index, df['y'])\n",
    "plt.fill_between(df.index, df['y+'], df['y-'], alpha=0.2)\n",
    "plt.plot(df.index, df['gnd_y'])\n",
    "\n",
    "\n",
    "plt.figure()\n",
    "plt.plot(df.index, df['z'])\n",
    "plt.fill_between(df.index, df['z+'], df['z-'], alpha=0.2)\n",
    "plt.plot(df.index, df['gnd_z'])\n",
    "\n",
    "plt.show()\n"
   ]
  },
  {
   "cell_type": "code",
   "execution_count": 5,
   "id": "013a7acf",
   "metadata": {},
   "outputs": [],
   "source": [
    "se = (df[\"x\"]-df[\"gnd_x\"])**2 + (df[\"y\"]-df[\"gnd_y\"])**2 + (df[\"z\"]-df[\"gnd_z\"])**2\n",
    "mse = sum(se)/len(df['x'])\n",
    "print(mse)\n",
    "plt.figure()\n",
    "plt.yscale(\"log\")\n",
    "plt.plot(df.index, se)\n",
    "plt.show()"
   ]
  },
  {
   "cell_type": "code",
   "execution_count": 6,
   "id": "62adeaa4",
   "metadata": {},
   "outputs": [],
   "source": [
    "plt.figure()\n",
    "plt.plot(df.index, df['time'])\n",
    "print(sum(df['time'])/10**6, \"s\")\n",
    "plt.show()"
   ]
  },
  {
   "cell_type": "code",
   "execution_count": 7,
   "id": "f0b2e4d6",
   "metadata": {},
   "outputs": [],
   "source": [
    "# anchors = pd.read_csv(prefix+\"anchors.csv\")\n",
    "\n",
    "with open(\"../data/anchors.json\") as f:\n",
    "    anchors = json.load(f)\n",
    "    \n",
    "x = [anchor[\"x\"] for anchor in anchors]\n",
    "y = [anchor[\"y\"] for anchor in anchors]\n",
    "z = [anchor[\"z\"] for anchor in anchors]\n",
    "\n",
    "anchors = list(zip(x,y,z))\n",
    "\n",
    "print(anchors)"
   ]
  },
  {
   "cell_type": "code",
   "execution_count": 8,
   "id": "9f34c543",
   "metadata": {},
   "outputs": [],
   "source": [
    "df_50 = df[:50]\n",
    "\n",
    "ax = plt.figure().add_subplot(projection='3d')\n",
    "ax.scatter(x,y,z)\n",
    "ax.plot(df_50['x'],df_50['y'],df_50['z'], c=\"orange\")\n",
    "ax.plot(df_50['gnd_x'],df_50['gnd_y'],df_50['gnd_z'], c=\"green\")\n",
    "\n"
   ]
  },
  {
   "cell_type": "code",
   "execution_count": 9,
   "id": "88c708ad",
   "metadata": {},
   "outputs": [],
   "source": [
    "print(sum(df['time'])/10**6, \"s\")\n",
    "print(se[len(se)-1])"
   ]
  },
  {
   "cell_type": "code",
   "execution_count": 10,
   "id": "51ace0eb",
   "metadata": {},
   "outputs": [],
   "source": [
    "\n",
    "\n",
    "dx = [sqrt((anchors[0][0] - df[\"gnd_x\"][i])**2+(anchors[0][1] - df[\"gnd_y\"][i])**2+(anchors[0][2] - df[\"gnd_z\"][i])**2) for i in range (30)]\n",
    "print(dx)\n"
   ]
  },
  {
   "cell_type": "markdown",
   "id": "0ca20d45",
   "metadata": {},
   "source": [
    "200 step fully connected\n",
    "8953 ms\n",
    "0.018081515014227126\n",
    "\n",
    "200 step fully connected\n",
    "21 ms\n",
    "0.018128581248011585\n"
   ]
  }
 ],
 "metadata": {
  "kernelspec": {
   "display_name": "Python 3 (ipykernel)",
   "language": "python",
   "name": "python3"
  },
  "language_info": {
   "codemirror_mode": {
    "name": "ipython",
    "version": 3
   },
   "file_extension": ".py",
   "mimetype": "text/x-python",
   "name": "python",
   "nbconvert_exporter": "python",
   "pygments_lexer": "ipython3",
   "version": "3.9.2"
  }
 },
 "nbformat": 4,
 "nbformat_minor": 5
}
