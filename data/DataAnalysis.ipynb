{
 "cells": [
  {
   "cell_type": "code",
   "execution_count": 1,
   "id": "11230186",
   "metadata": {},
   "outputs": [],
   "source": [
    "import pandas as pd\n",
    "from matplotlib import pyplot as plt\n",
    "from mpl_toolkits.mplot3d import Axes3D\n",
    "\n",
    "import json\n",
    "from math import sqrt\n",
    "%matplotlib notebook"
   ]
  },
  {
   "cell_type": "code",
   "execution_count": 2,
   "id": "34b25151",
   "metadata": {},
   "outputs": [
    {
     "name": "stdout",
     "output_type": "stream",
     "text": [
      "           x         y         z     x_std     y_std     z_std   time  \\\n",
      "0  -0.266564  0.263843 -0.103949  0.050010  0.049907  0.053739  61192   \n",
      "1  -0.211434  0.106362 -0.161013  0.050408  0.050259  0.055005  85759   \n",
      "2  -0.204570  0.083326 -0.126605  0.050153  0.050036  0.054570  34126   \n",
      "3  -0.181905  0.093016 -0.065022  0.050087  0.049977  0.054147  33628   \n",
      "4  -0.064985  0.008423  0.005691  0.050064  0.049949  0.053972  32369   \n",
      "..       ...       ...       ...       ...       ...       ...    ...   \n",
      "95 -0.265403  0.010147  0.352411  0.052331  0.058572  0.066143  34245   \n",
      "96 -0.272752 -0.021567  0.325543  0.053933  0.062066  0.062932  35103   \n",
      "97 -0.278062 -0.021646  0.318687  0.053473  0.060520  0.058272  72953   \n",
      "98 -0.323797  0.060746  0.291623  0.050873  0.054350  0.059357  70415   \n",
      "99 -0.482246  0.146567  0.202169  0.050604  0.050445  0.057792  83012   \n",
      "\n",
      "          x+        y+        z+        x-        y-        z-  \n",
      "0  -0.216554  0.313750 -0.050210 -0.316574  0.213936 -0.157688  \n",
      "1  -0.161026  0.156621 -0.106007 -0.261842  0.056103 -0.216019  \n",
      "2  -0.154417  0.133362 -0.072035 -0.254723  0.033290 -0.181175  \n",
      "3  -0.131818  0.142993 -0.010875 -0.231992  0.043040 -0.119169  \n",
      "4  -0.014921  0.058372  0.059663 -0.115049 -0.041526 -0.048280  \n",
      "..       ...       ...       ...       ...       ...       ...  \n",
      "95 -0.213072  0.068719  0.418554 -0.317734 -0.048425  0.286268  \n",
      "96 -0.218820  0.040500  0.388475 -0.326684 -0.083633  0.262611  \n",
      "97 -0.224589  0.038874  0.376959 -0.331535 -0.082166  0.260415  \n",
      "98 -0.272924  0.115096  0.350980 -0.374670  0.006397  0.232266  \n",
      "99 -0.431642  0.197012  0.259961 -0.532851  0.096122  0.144377  \n",
      "\n",
      "[100 rows x 13 columns]\n"
     ]
    }
   ],
   "source": [
    "prefix = \"../build/\"\n",
    "# prefix = \"./timeSqExp/testNaive/\"\n",
    "\n",
    "df = pd.read_csv(prefix+\"data.csv\")\n",
    "df.columns = ['x', 'y', 'z', 'x_std', 'y_std', 'z_std','time']\n",
    "df[\"x+\"] = df[\"x\"] + df[\"x_std\"]\n",
    "df[\"y+\"] = df[\"y\"] + df[\"y_std\"]\n",
    "df[\"z+\"] = df[\"z\"] + df[\"z_std\"]\n",
    "df[\"x-\"] = df[\"x\"] - df[\"x_std\"]\n",
    "df[\"y-\"] = df[\"y\"] - df[\"y_std\"]\n",
    "df[\"z-\"] = df[\"z\"] - df[\"z_std\"]\n",
    "\n",
    "print(df)"
   ]
  },
  {
   "cell_type": "code",
   "execution_count": null,
   "id": "d7fc7efe",
   "metadata": {},
   "outputs": [],
   "source": [
    "path = pd.read_csv(\"path.csv\")\n",
    "\n",
    "print(path.tail())\n",
    "\n",
    "# df['gnd_x'] = path[\"x\"] \n",
    "# df['gnd_y'] = path[\"y\"]\n",
    "# df['gnd_z'] = path[\"z\"]"
   ]
  },
  {
   "cell_type": "code",
   "execution_count": 4,
   "id": "f5dbb4f0",
   "metadata": {},
   "outputs": [],
   "source": [
    "plt.plot(df.index, df['x'])\n",
    "plt.fill_between(df.index, df['x+'], df['x-'], alpha=0.2)\n",
    "# plt.plot(df.index, df['gnd_x'])\n",
    "\n",
    "plt.figure()\n",
    "\n",
    "plt.plot(df.index, df['y'])\n",
    "plt.fill_between(df.index, df['y+'], df['y-'], alpha=0.2)\n",
    "# plt.plot(df.index, df['gnd_y'])\n",
    "\n",
    "\n",
    "plt.figure()\n",
    "plt.plot(df.index, df['z'])\n",
    "plt.fill_between(df.index, df['z+'], df['z-'], alpha=0.2)\n",
    "# plt.plot(df.index, df['gnd_z'])\n",
    "\n",
    "plt.show()\n"
   ]
  },
  {
   "cell_type": "code",
   "execution_count": null,
   "id": "013a7acf",
   "metadata": {},
   "outputs": [],
   "source": [
    "se = (df[\"x\"]-df[\"gnd_x\"])**2 + (df[\"y\"]-df[\"gnd_y\"])**2 + (df[\"z\"]-df[\"gnd_z\"])**2\n",
    "mse = sum(se)/len(df['x'])\n",
    "print(mse)\n",
    "plt.figure()\n",
    "plt.yscale(\"log\")\n",
    "plt.plot(df.index, se)\n",
    "plt.show()"
   ]
  },
  {
   "cell_type": "code",
   "execution_count": null,
   "id": "62adeaa4",
   "metadata": {},
   "outputs": [],
   "source": [
    "plt.figure()\n",
    "plt.plot(df.index, df['time'])\n",
    "print(sum(df['time'])/10**6, \"s\")\n",
    "plt.show()"
   ]
  },
  {
   "cell_type": "code",
   "execution_count": null,
   "id": "f0b2e4d6",
   "metadata": {},
   "outputs": [],
   "source": [
    "# anchors = pd.read_csv(prefix+\"anchors.csv\")\n",
    "\n",
    "with open(\"../data/anchors.json\") as f:\n",
    "    anchors = json.load(f)\n",
    "    \n",
    "x = [anchor[\"x\"] for anchor in anchors]\n",
    "y = [anchor[\"y\"] for anchor in anchors]\n",
    "z = [anchor[\"z\"] for anchor in anchors]\n",
    "\n",
    "anchors = list(zip(x,y,z))\n",
    "\n",
    "print(anchors)"
   ]
  },
  {
   "cell_type": "code",
   "execution_count": null,
   "id": "9f34c543",
   "metadata": {},
   "outputs": [],
   "source": [
    "df_50 = df[:50]\n",
    "\n",
    "ax = plt.figure().add_subplot(projection='3d')\n",
    "ax.scatter(x,y,z)\n",
    "ax.plot(df_50['x'],df_50['y'],df_50['z'], c=\"orange\")\n",
    "# ax.plot(df_50['gnd_x'],df_50['gnd_y'],df_50['gnd_z'], c=\"green\")\n",
    "\n",
    "ax.show()"
   ]
  },
  {
   "cell_type": "code",
   "execution_count": null,
   "id": "88c708ad",
   "metadata": {},
   "outputs": [],
   "source": [
    "print(sum(df['time'])/10**6, \"s\")\n",
    "print(se[len(se)-1])"
   ]
  },
  {
   "cell_type": "code",
   "execution_count": null,
   "id": "51ace0eb",
   "metadata": {},
   "outputs": [],
   "source": [
    "\n",
    "\n",
    "dx = [sqrt((anchors[0][0] - df[\"gnd_x\"][i])**2+(anchors[0][1] - df[\"gnd_y\"][i])**2+(anchors[0][2] - df[\"gnd_z\"][i])**2) for i in range (30)]\n",
    "print(dx)\n"
   ]
  },
  {
   "cell_type": "markdown",
   "id": "0ca20d45",
   "metadata": {},
   "source": [
    "200 step fully connected\n",
    "8953 ms\n",
    "0.018081515014227126\n",
    "\n",
    "200 step fully connected\n",
    "21 ms\n",
    "0.018128581248011585\n"
   ]
  }
 ],
 "metadata": {
  "kernelspec": {
   "display_name": "Python 3 (ipykernel)",
   "language": "python",
   "name": "python3"
  },
  "language_info": {
   "codemirror_mode": {
    "name": "ipython",
    "version": 3
   },
   "file_extension": ".py",
   "mimetype": "text/x-python",
   "name": "python",
   "nbconvert_exporter": "python",
   "pygments_lexer": "ipython3",
   "version": "3.9.2"
  }
 },
 "nbformat": 4,
 "nbformat_minor": 5
}
